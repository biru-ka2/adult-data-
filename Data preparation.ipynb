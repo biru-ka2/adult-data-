{
 "cells": [
  {
   "cell_type": "code",
   "execution_count": 92,
   "id": "42a41bad",
   "metadata": {},
   "outputs": [],
   "source": [
    "import pandas as pd\n",
    "import numpy as np"
   ]
  },
  {
   "cell_type": "code",
   "execution_count": 93,
   "id": "bbb1020e",
   "metadata": {},
   "outputs": [],
   "source": [
    "#df=pd.read_csv('countries_of_the_world.csv')\n",
    "census=pd.read_csv('adult.csv')"
   ]
  },
  {
   "cell_type": "code",
   "execution_count": 94,
   "id": "6ff5fd30",
   "metadata": {},
   "outputs": [
    {
     "data": {
      "text/plain": [
       "(48842, 15)"
      ]
     },
     "execution_count": 94,
     "metadata": {},
     "output_type": "execute_result"
    }
   ],
   "source": [
    "census.shape"
   ]
  },
  {
   "cell_type": "code",
   "execution_count": 140,
   "id": "c842a481",
   "metadata": {
    "scrolled": true
   },
   "outputs": [
    {
     "data": {
      "text/html": [
       "<div>\n",
       "<style scoped>\n",
       "    .dataframe tbody tr th:only-of-type {\n",
       "        vertical-align: middle;\n",
       "    }\n",
       "\n",
       "    .dataframe tbody tr th {\n",
       "        vertical-align: top;\n",
       "    }\n",
       "\n",
       "    .dataframe thead th {\n",
       "        text-align: right;\n",
       "    }\n",
       "</style>\n",
       "<table border=\"1\" class=\"dataframe\">\n",
       "  <thead>\n",
       "    <tr style=\"text-align: right;\">\n",
       "      <th></th>\n",
       "      <th>age</th>\n",
       "      <th>workclass</th>\n",
       "      <th>fnlwgt</th>\n",
       "      <th>education</th>\n",
       "      <th>educational-num</th>\n",
       "      <th>marital-status</th>\n",
       "      <th>occupation</th>\n",
       "      <th>relationship</th>\n",
       "      <th>race</th>\n",
       "      <th>gender</th>\n",
       "      <th>...</th>\n",
       "      <th>marital-status_Married-spouse-absent</th>\n",
       "      <th>marital-status_Never-married</th>\n",
       "      <th>marital-status_Separated</th>\n",
       "      <th>marital-status_Widowed</th>\n",
       "      <th>marital-status_nan</th>\n",
       "      <th>race_Amer-Indian-Eskimo</th>\n",
       "      <th>race_Asian-Pac-Islander</th>\n",
       "      <th>race_Black</th>\n",
       "      <th>race_Other</th>\n",
       "      <th>race_White</th>\n",
       "    </tr>\n",
       "  </thead>\n",
       "  <tbody>\n",
       "    <tr>\n",
       "      <th>0</th>\n",
       "      <td>25.0</td>\n",
       "      <td>Private</td>\n",
       "      <td>NaN</td>\n",
       "      <td>11th</td>\n",
       "      <td>7.0</td>\n",
       "      <td>Never-married</td>\n",
       "      <td>Machine-op-inspct</td>\n",
       "      <td>Own-child</td>\n",
       "      <td>Black</td>\n",
       "      <td>1</td>\n",
       "      <td>...</td>\n",
       "      <td>0.0</td>\n",
       "      <td>1.0</td>\n",
       "      <td>0.0</td>\n",
       "      <td>0.0</td>\n",
       "      <td>0.0</td>\n",
       "      <td>0.0</td>\n",
       "      <td>0.0</td>\n",
       "      <td>1.0</td>\n",
       "      <td>0.0</td>\n",
       "      <td>0.0</td>\n",
       "    </tr>\n",
       "    <tr>\n",
       "      <th>1</th>\n",
       "      <td>38.0</td>\n",
       "      <td>Private</td>\n",
       "      <td>NaN</td>\n",
       "      <td>HS-grad</td>\n",
       "      <td>9.0</td>\n",
       "      <td>Married-civ-spouse</td>\n",
       "      <td>Farming-fishing</td>\n",
       "      <td>Husband</td>\n",
       "      <td>White</td>\n",
       "      <td>1</td>\n",
       "      <td>...</td>\n",
       "      <td>0.0</td>\n",
       "      <td>0.0</td>\n",
       "      <td>0.0</td>\n",
       "      <td>0.0</td>\n",
       "      <td>0.0</td>\n",
       "      <td>0.0</td>\n",
       "      <td>0.0</td>\n",
       "      <td>0.0</td>\n",
       "      <td>0.0</td>\n",
       "      <td>1.0</td>\n",
       "    </tr>\n",
       "    <tr>\n",
       "      <th>2</th>\n",
       "      <td>28.0</td>\n",
       "      <td>Local-gov</td>\n",
       "      <td>NaN</td>\n",
       "      <td>Assoc-acdm</td>\n",
       "      <td>12.0</td>\n",
       "      <td>Married-civ-spouse</td>\n",
       "      <td>Protective-serv</td>\n",
       "      <td>Husband</td>\n",
       "      <td>White</td>\n",
       "      <td>1</td>\n",
       "      <td>...</td>\n",
       "      <td>0.0</td>\n",
       "      <td>0.0</td>\n",
       "      <td>0.0</td>\n",
       "      <td>0.0</td>\n",
       "      <td>0.0</td>\n",
       "      <td>0.0</td>\n",
       "      <td>0.0</td>\n",
       "      <td>0.0</td>\n",
       "      <td>0.0</td>\n",
       "      <td>1.0</td>\n",
       "    </tr>\n",
       "    <tr>\n",
       "      <th>3</th>\n",
       "      <td>44.0</td>\n",
       "      <td>Private</td>\n",
       "      <td>NaN</td>\n",
       "      <td>Some-college</td>\n",
       "      <td>10.0</td>\n",
       "      <td>Married-civ-spouse</td>\n",
       "      <td>Machine-op-inspct</td>\n",
       "      <td>Husband</td>\n",
       "      <td>Black</td>\n",
       "      <td>1</td>\n",
       "      <td>...</td>\n",
       "      <td>0.0</td>\n",
       "      <td>0.0</td>\n",
       "      <td>0.0</td>\n",
       "      <td>0.0</td>\n",
       "      <td>0.0</td>\n",
       "      <td>0.0</td>\n",
       "      <td>0.0</td>\n",
       "      <td>1.0</td>\n",
       "      <td>0.0</td>\n",
       "      <td>0.0</td>\n",
       "    </tr>\n",
       "    <tr>\n",
       "      <th>4</th>\n",
       "      <td>18.0</td>\n",
       "      <td>?</td>\n",
       "      <td>NaN</td>\n",
       "      <td>Some-college</td>\n",
       "      <td>10.0</td>\n",
       "      <td>Never-married</td>\n",
       "      <td>?</td>\n",
       "      <td>Own-child</td>\n",
       "      <td>White</td>\n",
       "      <td>0</td>\n",
       "      <td>...</td>\n",
       "      <td>0.0</td>\n",
       "      <td>1.0</td>\n",
       "      <td>0.0</td>\n",
       "      <td>0.0</td>\n",
       "      <td>0.0</td>\n",
       "      <td>0.0</td>\n",
       "      <td>0.0</td>\n",
       "      <td>0.0</td>\n",
       "      <td>0.0</td>\n",
       "      <td>1.0</td>\n",
       "    </tr>\n",
       "  </tbody>\n",
       "</table>\n",
       "<p>5 rows × 28 columns</p>\n",
       "</div>"
      ],
      "text/plain": [
       "    age  workclass  fnlwgt     education  educational-num      marital-status  \\\n",
       "0  25.0    Private     NaN          11th              7.0       Never-married   \n",
       "1  38.0    Private     NaN       HS-grad              9.0  Married-civ-spouse   \n",
       "2  28.0  Local-gov     NaN    Assoc-acdm             12.0  Married-civ-spouse   \n",
       "3  44.0    Private     NaN  Some-college             10.0  Married-civ-spouse   \n",
       "4  18.0          ?     NaN  Some-college             10.0       Never-married   \n",
       "\n",
       "          occupation relationship   race  gender  ...  \\\n",
       "0  Machine-op-inspct    Own-child  Black       1  ...   \n",
       "1    Farming-fishing      Husband  White       1  ...   \n",
       "2    Protective-serv      Husband  White       1  ...   \n",
       "3  Machine-op-inspct      Husband  Black       1  ...   \n",
       "4                  ?    Own-child  White       0  ...   \n",
       "\n",
       "   marital-status_Married-spouse-absent  marital-status_Never-married  \\\n",
       "0                                   0.0                           1.0   \n",
       "1                                   0.0                           0.0   \n",
       "2                                   0.0                           0.0   \n",
       "3                                   0.0                           0.0   \n",
       "4                                   0.0                           1.0   \n",
       "\n",
       "   marital-status_Separated marital-status_Widowed marital-status_nan  \\\n",
       "0                       0.0                    0.0                0.0   \n",
       "1                       0.0                    0.0                0.0   \n",
       "2                       0.0                    0.0                0.0   \n",
       "3                       0.0                    0.0                0.0   \n",
       "4                       0.0                    0.0                0.0   \n",
       "\n",
       "   race_Amer-Indian-Eskimo  race_Asian-Pac-Islander  race_Black  race_Other  \\\n",
       "0                      0.0                      0.0         1.0         0.0   \n",
       "1                      0.0                      0.0         0.0         0.0   \n",
       "2                      0.0                      0.0         0.0         0.0   \n",
       "3                      0.0                      0.0         1.0         0.0   \n",
       "4                      0.0                      0.0         0.0         0.0   \n",
       "\n",
       "   race_White  \n",
       "0         0.0  \n",
       "1         1.0  \n",
       "2         1.0  \n",
       "3         0.0  \n",
       "4         1.0  \n",
       "\n",
       "[5 rows x 28 columns]"
      ]
     },
     "execution_count": 140,
     "metadata": {},
     "output_type": "execute_result"
    }
   ],
   "source": [
    "census.head(5)"
   ]
  },
  {
   "cell_type": "code",
   "execution_count": 96,
   "id": "5ff25f90",
   "metadata": {},
   "outputs": [
    {
     "data": {
      "text/plain": [
       "age                 7\n",
       "workclass           0\n",
       "fnlwgt              0\n",
       "education           0\n",
       "educational-num     0\n",
       "marital-status     10\n",
       "occupation          0\n",
       "relationship        0\n",
       "race                8\n",
       "gender              7\n",
       "capital-gain        0\n",
       "capital-loss        0\n",
       "hours-per-week     12\n",
       "native-country      0\n",
       "income              0\n",
       "dtype: int64"
      ]
     },
     "execution_count": 96,
     "metadata": {},
     "output_type": "execute_result"
    }
   ],
   "source": [
    "census.isnull().sum()"
   ]
  },
  {
   "cell_type": "code",
   "execution_count": 97,
   "id": "683afc4f",
   "metadata": {
    "scrolled": true
   },
   "outputs": [
    {
     "data": {
      "text/plain": [
       "age                float64\n",
       "workclass           object\n",
       "fnlwgt               int64\n",
       "education           object\n",
       "educational-num      int64\n",
       "marital-status      object\n",
       "occupation          object\n",
       "relationship        object\n",
       "race                object\n",
       "gender              object\n",
       "capital-gain         int64\n",
       "capital-loss         int64\n",
       "hours-per-week     float64\n",
       "native-country      object\n",
       "income              object\n",
       "dtype: object"
      ]
     },
     "execution_count": 97,
     "metadata": {},
     "output_type": "execute_result"
    }
   ],
   "source": [
    "census.dtypes"
   ]
  },
  {
   "cell_type": "code",
   "execution_count": 98,
   "id": "f8178438",
   "metadata": {},
   "outputs": [],
   "source": [
    "#exclude data with NA\n",
    "hoursperweekNew = census[~census['hours-per-week'].isnull()]"
   ]
  },
  {
   "cell_type": "code",
   "execution_count": 99,
   "id": "e6e1aba8",
   "metadata": {},
   "outputs": [
    {
     "data": {
      "text/plain": [
       "(48830, 15)"
      ]
     },
     "execution_count": 99,
     "metadata": {},
     "output_type": "execute_result"
    }
   ],
   "source": [
    "hoursperweekNew.shape"
   ]
  },
  {
   "cell_type": "code",
   "execution_count": 100,
   "id": "52201a9b",
   "metadata": {},
   "outputs": [],
   "source": [
    "# We have dropped the rows where age and sex columns are NaN. axis=0 specifies the rows.\n",
    "census = census.dropna(axis = 0,subset = ['gender','age'])"
   ]
  },
  {
   "cell_type": "code",
   "execution_count": 101,
   "id": "437096df",
   "metadata": {},
   "outputs": [
    {
     "data": {
      "text/plain": [
       "(48828, 15)"
      ]
     },
     "execution_count": 101,
     "metadata": {},
     "output_type": "execute_result"
    }
   ],
   "source": [
    "census.shape"
   ]
  },
  {
   "cell_type": "code",
   "execution_count": 102,
   "id": "7fa941d8",
   "metadata": {},
   "outputs": [],
   "source": [
    "#inputing missing age with mean\n",
    "census['age'] = census['age'].fillna(census['age'].mean())"
   ]
  },
  {
   "cell_type": "code",
   "execution_count": 103,
   "id": "4a44ad50",
   "metadata": {},
   "outputs": [],
   "source": [
    "#inputing  missing hours-per-week with mode\n",
    "census['hours-per-week'] = census['hours-per-week'].fillna(census['hours-per-week'].mode()[0])"
   ]
  },
  {
   "cell_type": "code",
   "execution_count": 104,
   "id": "e8ff4fac",
   "metadata": {},
   "outputs": [
    {
     "data": {
      "text/plain": [
       "0    40.0\n",
       "Name: hours-per-week, dtype: float64"
      ]
     },
     "execution_count": 104,
     "metadata": {},
     "output_type": "execute_result"
    }
   ],
   "source": [
    "census['hours-per-week'].mode()"
   ]
  },
  {
   "cell_type": "code",
   "execution_count": 105,
   "id": "207ac839",
   "metadata": {},
   "outputs": [],
   "source": [
    "#you can fill missing values with some other values \n",
    "census['race'] = census['race'].fillna('Other')"
   ]
  },
  {
   "cell_type": "code",
   "execution_count": 106,
   "id": "afae3cb1",
   "metadata": {
    "scrolled": true
   },
   "outputs": [
    {
     "data": {
      "text/plain": [
       "race\n",
       "White                 41748\n",
       "Black                  4683\n",
       "Asian-Pac-Islander     1518\n",
       "Amer-Indian-Eskimo      470\n",
       "Other                   409\n",
       "Name: count, dtype: int64"
      ]
     },
     "execution_count": 106,
     "metadata": {},
     "output_type": "execute_result"
    }
   ],
   "source": [
    "census.race.value_counts()"
   ]
  },
  {
   "cell_type": "code",
   "execution_count": 107,
   "id": "6f6215f1",
   "metadata": {},
   "outputs": [],
   "source": [
    "#Label Encoder\n"
   ]
  },
  {
   "cell_type": "code",
   "execution_count": 137,
   "id": "0a6efedf",
   "metadata": {},
   "outputs": [],
   "source": [
    "from sklearn.preprocessing import LabelEncoder\n",
    "l1 = LabelEncoder()\n",
    "l1.fit(census['gender'])\n",
    "census.gender = l1.transform(census.gender)\n",
    "from sklearn.preprocessing import OneHotEncoder\n",
    "\n",
    "encoder = OneHotEncoder()\n",
    "census_encoded = encoder.fit_transform(census[['marital-status', 'race']])\n"
   ]
  },
  {
   "cell_type": "code",
   "execution_count": 138,
   "id": "5149177c",
   "metadata": {},
   "outputs": [
    {
     "data": {
      "text/html": [
       "<div>\n",
       "<style scoped>\n",
       "    .dataframe tbody tr th:only-of-type {\n",
       "        vertical-align: middle;\n",
       "    }\n",
       "\n",
       "    .dataframe tbody tr th {\n",
       "        vertical-align: top;\n",
       "    }\n",
       "\n",
       "    .dataframe thead th {\n",
       "        text-align: right;\n",
       "    }\n",
       "</style>\n",
       "<table border=\"1\" class=\"dataframe\">\n",
       "  <thead>\n",
       "    <tr style=\"text-align: right;\">\n",
       "      <th></th>\n",
       "      <th>age</th>\n",
       "      <th>workclass</th>\n",
       "      <th>fnlwgt</th>\n",
       "      <th>education</th>\n",
       "      <th>educational-num</th>\n",
       "      <th>marital-status</th>\n",
       "      <th>occupation</th>\n",
       "      <th>relationship</th>\n",
       "      <th>race</th>\n",
       "      <th>gender</th>\n",
       "      <th>...</th>\n",
       "      <th>marital-status_Married-spouse-absent</th>\n",
       "      <th>marital-status_Never-married</th>\n",
       "      <th>marital-status_Separated</th>\n",
       "      <th>marital-status_Widowed</th>\n",
       "      <th>marital-status_nan</th>\n",
       "      <th>race_Amer-Indian-Eskimo</th>\n",
       "      <th>race_Asian-Pac-Islander</th>\n",
       "      <th>race_Black</th>\n",
       "      <th>race_Other</th>\n",
       "      <th>race_White</th>\n",
       "    </tr>\n",
       "  </thead>\n",
       "  <tbody>\n",
       "    <tr>\n",
       "      <th>0</th>\n",
       "      <td>25.0</td>\n",
       "      <td>Private</td>\n",
       "      <td>NaN</td>\n",
       "      <td>11th</td>\n",
       "      <td>7.0</td>\n",
       "      <td>Never-married</td>\n",
       "      <td>Machine-op-inspct</td>\n",
       "      <td>Own-child</td>\n",
       "      <td>Black</td>\n",
       "      <td>1</td>\n",
       "      <td>...</td>\n",
       "      <td>0.0</td>\n",
       "      <td>1.0</td>\n",
       "      <td>0.0</td>\n",
       "      <td>0.0</td>\n",
       "      <td>0.0</td>\n",
       "      <td>0.0</td>\n",
       "      <td>0.0</td>\n",
       "      <td>1.0</td>\n",
       "      <td>0.0</td>\n",
       "      <td>0.0</td>\n",
       "    </tr>\n",
       "    <tr>\n",
       "      <th>1</th>\n",
       "      <td>38.0</td>\n",
       "      <td>Private</td>\n",
       "      <td>NaN</td>\n",
       "      <td>HS-grad</td>\n",
       "      <td>9.0</td>\n",
       "      <td>Married-civ-spouse</td>\n",
       "      <td>Farming-fishing</td>\n",
       "      <td>Husband</td>\n",
       "      <td>White</td>\n",
       "      <td>1</td>\n",
       "      <td>...</td>\n",
       "      <td>0.0</td>\n",
       "      <td>0.0</td>\n",
       "      <td>0.0</td>\n",
       "      <td>0.0</td>\n",
       "      <td>0.0</td>\n",
       "      <td>0.0</td>\n",
       "      <td>0.0</td>\n",
       "      <td>0.0</td>\n",
       "      <td>0.0</td>\n",
       "      <td>1.0</td>\n",
       "    </tr>\n",
       "    <tr>\n",
       "      <th>2</th>\n",
       "      <td>28.0</td>\n",
       "      <td>Local-gov</td>\n",
       "      <td>NaN</td>\n",
       "      <td>Assoc-acdm</td>\n",
       "      <td>12.0</td>\n",
       "      <td>Married-civ-spouse</td>\n",
       "      <td>Protective-serv</td>\n",
       "      <td>Husband</td>\n",
       "      <td>White</td>\n",
       "      <td>1</td>\n",
       "      <td>...</td>\n",
       "      <td>0.0</td>\n",
       "      <td>0.0</td>\n",
       "      <td>0.0</td>\n",
       "      <td>0.0</td>\n",
       "      <td>0.0</td>\n",
       "      <td>0.0</td>\n",
       "      <td>0.0</td>\n",
       "      <td>0.0</td>\n",
       "      <td>0.0</td>\n",
       "      <td>1.0</td>\n",
       "    </tr>\n",
       "    <tr>\n",
       "      <th>3</th>\n",
       "      <td>44.0</td>\n",
       "      <td>Private</td>\n",
       "      <td>NaN</td>\n",
       "      <td>Some-college</td>\n",
       "      <td>10.0</td>\n",
       "      <td>Married-civ-spouse</td>\n",
       "      <td>Machine-op-inspct</td>\n",
       "      <td>Husband</td>\n",
       "      <td>Black</td>\n",
       "      <td>1</td>\n",
       "      <td>...</td>\n",
       "      <td>0.0</td>\n",
       "      <td>0.0</td>\n",
       "      <td>0.0</td>\n",
       "      <td>0.0</td>\n",
       "      <td>0.0</td>\n",
       "      <td>0.0</td>\n",
       "      <td>0.0</td>\n",
       "      <td>1.0</td>\n",
       "      <td>0.0</td>\n",
       "      <td>0.0</td>\n",
       "    </tr>\n",
       "    <tr>\n",
       "      <th>4</th>\n",
       "      <td>18.0</td>\n",
       "      <td>?</td>\n",
       "      <td>NaN</td>\n",
       "      <td>Some-college</td>\n",
       "      <td>10.0</td>\n",
       "      <td>Never-married</td>\n",
       "      <td>?</td>\n",
       "      <td>Own-child</td>\n",
       "      <td>White</td>\n",
       "      <td>0</td>\n",
       "      <td>...</td>\n",
       "      <td>0.0</td>\n",
       "      <td>1.0</td>\n",
       "      <td>0.0</td>\n",
       "      <td>0.0</td>\n",
       "      <td>0.0</td>\n",
       "      <td>0.0</td>\n",
       "      <td>0.0</td>\n",
       "      <td>0.0</td>\n",
       "      <td>0.0</td>\n",
       "      <td>1.0</td>\n",
       "    </tr>\n",
       "  </tbody>\n",
       "</table>\n",
       "<p>5 rows × 28 columns</p>\n",
       "</div>"
      ],
      "text/plain": [
       "    age  workclass  fnlwgt     education  educational-num      marital-status  \\\n",
       "0  25.0    Private     NaN          11th              7.0       Never-married   \n",
       "1  38.0    Private     NaN       HS-grad              9.0  Married-civ-spouse   \n",
       "2  28.0  Local-gov     NaN    Assoc-acdm             12.0  Married-civ-spouse   \n",
       "3  44.0    Private     NaN  Some-college             10.0  Married-civ-spouse   \n",
       "4  18.0          ?     NaN  Some-college             10.0       Never-married   \n",
       "\n",
       "          occupation relationship   race  gender  ...  \\\n",
       "0  Machine-op-inspct    Own-child  Black       1  ...   \n",
       "1    Farming-fishing      Husband  White       1  ...   \n",
       "2    Protective-serv      Husband  White       1  ...   \n",
       "3  Machine-op-inspct      Husband  Black       1  ...   \n",
       "4                  ?    Own-child  White       0  ...   \n",
       "\n",
       "   marital-status_Married-spouse-absent  marital-status_Never-married  \\\n",
       "0                                   0.0                           1.0   \n",
       "1                                   0.0                           0.0   \n",
       "2                                   0.0                           0.0   \n",
       "3                                   0.0                           0.0   \n",
       "4                                   0.0                           1.0   \n",
       "\n",
       "   marital-status_Separated marital-status_Widowed marital-status_nan  \\\n",
       "0                       0.0                    0.0                0.0   \n",
       "1                       0.0                    0.0                0.0   \n",
       "2                       0.0                    0.0                0.0   \n",
       "3                       0.0                    0.0                0.0   \n",
       "4                       0.0                    0.0                0.0   \n",
       "\n",
       "   race_Amer-Indian-Eskimo  race_Asian-Pac-Islander  race_Black  race_Other  \\\n",
       "0                      0.0                      0.0         1.0         0.0   \n",
       "1                      0.0                      0.0         0.0         0.0   \n",
       "2                      0.0                      0.0         0.0         0.0   \n",
       "3                      0.0                      0.0         1.0         0.0   \n",
       "4                      0.0                      0.0         0.0         0.0   \n",
       "\n",
       "   race_White  \n",
       "0         0.0  \n",
       "1         1.0  \n",
       "2         1.0  \n",
       "3         0.0  \n",
       "4         1.0  \n",
       "\n",
       "[5 rows x 28 columns]"
      ]
     },
     "execution_count": 138,
     "metadata": {},
     "output_type": "execute_result"
    }
   ],
   "source": [
    "census.head()"
   ]
  },
  {
   "cell_type": "code",
   "execution_count": 110,
   "id": "923b9eb1",
   "metadata": {},
   "outputs": [],
   "source": [
    "#Data preparation using PneHotEncoder\n",
    "#In OneHotEncoder we make a new column for each unique categorical value, and the value is 1 for that column, \n",
    "#if in an actual data frame that value is there, else it is 0"
   ]
  },
  {
   "cell_type": "code",
   "execution_count": 141,
   "id": "2720bf97",
   "metadata": {},
   "outputs": [],
   "source": [
    "from sklearn.preprocessing import LabelEncoder"
   ]
  },
  {
   "cell_type": "code",
   "execution_count": 142,
   "id": "50e43490",
   "metadata": {},
   "outputs": [],
   "source": [
    "encoder = OneHotEncoder()\n",
    "censusnew = encoder.fit_transform(census[['marital-status','race']])"
   ]
  },
  {
   "cell_type": "code",
   "execution_count": 143,
   "id": "bfe80061",
   "metadata": {},
   "outputs": [],
   "source": [
    "column_name=encoder.get_feature_names_out(['marital-status','race'])"
   ]
  },
  {
   "cell_type": "code",
   "execution_count": 144,
   "id": "37f1c639",
   "metadata": {},
   "outputs": [],
   "source": [
    "one_hot_encoded_frame = pd.DataFrame.sparse.from_spmatrix(censusnew, columns=column_name)"
   ]
  },
  {
   "cell_type": "code",
   "execution_count": 145,
   "id": "2f07d5d1",
   "metadata": {},
   "outputs": [],
   "source": [
    "#one_hot_encoded_frame"
   ]
  },
  {
   "cell_type": "code",
   "execution_count": 116,
   "id": "24c48714",
   "metadata": {},
   "outputs": [],
   "source": [
    "census=pd.concat([census, one_hot_encoded_frame], axis=1)"
   ]
  },
  {
   "cell_type": "code",
   "execution_count": 146,
   "id": "d01c321a",
   "metadata": {},
   "outputs": [
    {
     "data": {
      "text/html": [
       "<div>\n",
       "<style scoped>\n",
       "    .dataframe tbody tr th:only-of-type {\n",
       "        vertical-align: middle;\n",
       "    }\n",
       "\n",
       "    .dataframe tbody tr th {\n",
       "        vertical-align: top;\n",
       "    }\n",
       "\n",
       "    .dataframe thead th {\n",
       "        text-align: right;\n",
       "    }\n",
       "</style>\n",
       "<table border=\"1\" class=\"dataframe\">\n",
       "  <thead>\n",
       "    <tr style=\"text-align: right;\">\n",
       "      <th></th>\n",
       "      <th>age</th>\n",
       "      <th>workclass</th>\n",
       "      <th>fnlwgt</th>\n",
       "      <th>education</th>\n",
       "      <th>educational-num</th>\n",
       "      <th>marital-status</th>\n",
       "      <th>occupation</th>\n",
       "      <th>relationship</th>\n",
       "      <th>race</th>\n",
       "      <th>gender</th>\n",
       "      <th>...</th>\n",
       "      <th>marital-status_Married-spouse-absent</th>\n",
       "      <th>marital-status_Never-married</th>\n",
       "      <th>marital-status_Separated</th>\n",
       "      <th>marital-status_Widowed</th>\n",
       "      <th>marital-status_nan</th>\n",
       "      <th>race_Amer-Indian-Eskimo</th>\n",
       "      <th>race_Asian-Pac-Islander</th>\n",
       "      <th>race_Black</th>\n",
       "      <th>race_Other</th>\n",
       "      <th>race_White</th>\n",
       "    </tr>\n",
       "  </thead>\n",
       "  <tbody>\n",
       "    <tr>\n",
       "      <th>0</th>\n",
       "      <td>25.0</td>\n",
       "      <td>Private</td>\n",
       "      <td>NaN</td>\n",
       "      <td>11th</td>\n",
       "      <td>7.0</td>\n",
       "      <td>Never-married</td>\n",
       "      <td>Machine-op-inspct</td>\n",
       "      <td>Own-child</td>\n",
       "      <td>Black</td>\n",
       "      <td>1</td>\n",
       "      <td>...</td>\n",
       "      <td>0.0</td>\n",
       "      <td>1.0</td>\n",
       "      <td>0.0</td>\n",
       "      <td>0.0</td>\n",
       "      <td>0.0</td>\n",
       "      <td>0.0</td>\n",
       "      <td>0.0</td>\n",
       "      <td>1.0</td>\n",
       "      <td>0.0</td>\n",
       "      <td>0.0</td>\n",
       "    </tr>\n",
       "    <tr>\n",
       "      <th>1</th>\n",
       "      <td>38.0</td>\n",
       "      <td>Private</td>\n",
       "      <td>NaN</td>\n",
       "      <td>HS-grad</td>\n",
       "      <td>9.0</td>\n",
       "      <td>Married-civ-spouse</td>\n",
       "      <td>Farming-fishing</td>\n",
       "      <td>Husband</td>\n",
       "      <td>White</td>\n",
       "      <td>1</td>\n",
       "      <td>...</td>\n",
       "      <td>0.0</td>\n",
       "      <td>0.0</td>\n",
       "      <td>0.0</td>\n",
       "      <td>0.0</td>\n",
       "      <td>0.0</td>\n",
       "      <td>0.0</td>\n",
       "      <td>0.0</td>\n",
       "      <td>0.0</td>\n",
       "      <td>0.0</td>\n",
       "      <td>1.0</td>\n",
       "    </tr>\n",
       "    <tr>\n",
       "      <th>2</th>\n",
       "      <td>28.0</td>\n",
       "      <td>Local-gov</td>\n",
       "      <td>NaN</td>\n",
       "      <td>Assoc-acdm</td>\n",
       "      <td>12.0</td>\n",
       "      <td>Married-civ-spouse</td>\n",
       "      <td>Protective-serv</td>\n",
       "      <td>Husband</td>\n",
       "      <td>White</td>\n",
       "      <td>1</td>\n",
       "      <td>...</td>\n",
       "      <td>0.0</td>\n",
       "      <td>0.0</td>\n",
       "      <td>0.0</td>\n",
       "      <td>0.0</td>\n",
       "      <td>0.0</td>\n",
       "      <td>0.0</td>\n",
       "      <td>0.0</td>\n",
       "      <td>0.0</td>\n",
       "      <td>0.0</td>\n",
       "      <td>1.0</td>\n",
       "    </tr>\n",
       "    <tr>\n",
       "      <th>3</th>\n",
       "      <td>44.0</td>\n",
       "      <td>Private</td>\n",
       "      <td>NaN</td>\n",
       "      <td>Some-college</td>\n",
       "      <td>10.0</td>\n",
       "      <td>Married-civ-spouse</td>\n",
       "      <td>Machine-op-inspct</td>\n",
       "      <td>Husband</td>\n",
       "      <td>Black</td>\n",
       "      <td>1</td>\n",
       "      <td>...</td>\n",
       "      <td>0.0</td>\n",
       "      <td>0.0</td>\n",
       "      <td>0.0</td>\n",
       "      <td>0.0</td>\n",
       "      <td>0.0</td>\n",
       "      <td>0.0</td>\n",
       "      <td>0.0</td>\n",
       "      <td>1.0</td>\n",
       "      <td>0.0</td>\n",
       "      <td>0.0</td>\n",
       "    </tr>\n",
       "    <tr>\n",
       "      <th>4</th>\n",
       "      <td>18.0</td>\n",
       "      <td>?</td>\n",
       "      <td>NaN</td>\n",
       "      <td>Some-college</td>\n",
       "      <td>10.0</td>\n",
       "      <td>Never-married</td>\n",
       "      <td>?</td>\n",
       "      <td>Own-child</td>\n",
       "      <td>White</td>\n",
       "      <td>0</td>\n",
       "      <td>...</td>\n",
       "      <td>0.0</td>\n",
       "      <td>1.0</td>\n",
       "      <td>0.0</td>\n",
       "      <td>0.0</td>\n",
       "      <td>0.0</td>\n",
       "      <td>0.0</td>\n",
       "      <td>0.0</td>\n",
       "      <td>0.0</td>\n",
       "      <td>0.0</td>\n",
       "      <td>1.0</td>\n",
       "    </tr>\n",
       "  </tbody>\n",
       "</table>\n",
       "<p>5 rows × 28 columns</p>\n",
       "</div>"
      ],
      "text/plain": [
       "    age  workclass  fnlwgt     education  educational-num      marital-status  \\\n",
       "0  25.0    Private     NaN          11th              7.0       Never-married   \n",
       "1  38.0    Private     NaN       HS-grad              9.0  Married-civ-spouse   \n",
       "2  28.0  Local-gov     NaN    Assoc-acdm             12.0  Married-civ-spouse   \n",
       "3  44.0    Private     NaN  Some-college             10.0  Married-civ-spouse   \n",
       "4  18.0          ?     NaN  Some-college             10.0       Never-married   \n",
       "\n",
       "          occupation relationship   race  gender  ...  \\\n",
       "0  Machine-op-inspct    Own-child  Black       1  ...   \n",
       "1    Farming-fishing      Husband  White       1  ...   \n",
       "2    Protective-serv      Husband  White       1  ...   \n",
       "3  Machine-op-inspct      Husband  Black       1  ...   \n",
       "4                  ?    Own-child  White       0  ...   \n",
       "\n",
       "   marital-status_Married-spouse-absent  marital-status_Never-married  \\\n",
       "0                                   0.0                           1.0   \n",
       "1                                   0.0                           0.0   \n",
       "2                                   0.0                           0.0   \n",
       "3                                   0.0                           0.0   \n",
       "4                                   0.0                           1.0   \n",
       "\n",
       "   marital-status_Separated marital-status_Widowed marital-status_nan  \\\n",
       "0                       0.0                    0.0                0.0   \n",
       "1                       0.0                    0.0                0.0   \n",
       "2                       0.0                    0.0                0.0   \n",
       "3                       0.0                    0.0                0.0   \n",
       "4                       0.0                    0.0                0.0   \n",
       "\n",
       "   race_Amer-Indian-Eskimo  race_Asian-Pac-Islander  race_Black  race_Other  \\\n",
       "0                      0.0                      0.0         1.0         0.0   \n",
       "1                      0.0                      0.0         0.0         0.0   \n",
       "2                      0.0                      0.0         0.0         0.0   \n",
       "3                      0.0                      0.0         1.0         0.0   \n",
       "4                      0.0                      0.0         0.0         0.0   \n",
       "\n",
       "   race_White  \n",
       "0         0.0  \n",
       "1         1.0  \n",
       "2         1.0  \n",
       "3         0.0  \n",
       "4         1.0  \n",
       "\n",
       "[5 rows x 28 columns]"
      ]
     },
     "execution_count": 146,
     "metadata": {},
     "output_type": "execute_result"
    }
   ],
   "source": [
    "census.head()"
   ]
  },
  {
   "cell_type": "code",
   "execution_count": 118,
   "id": "dfdb362f",
   "metadata": {},
   "outputs": [
    {
     "ename": "SyntaxError",
     "evalue": "invalid syntax (1700450822.py, line 5)",
     "output_type": "error",
     "traceback": [
      "\u001b[1;36m  Cell \u001b[1;32mIn[118], line 5\u001b[1;36m\u001b[0m\n\u001b[1;33m    ..\u001b[0m\n\u001b[1;37m    ^\u001b[0m\n\u001b[1;31mSyntaxError\u001b[0m\u001b[1;31m:\u001b[0m invalid syntax\n"
     ]
    }
   ],
   "source": [
    "...\n",
    ";;;\n",
    "\n",
    "#Normalization\n",
    "..\n",
    "..\n",
    ".."
   ]
  },
  {
   "cell_type": "code",
   "execution_count": 119,
   "id": "74841ad8",
   "metadata": {},
   "outputs": [],
   "source": [
    "from sklearn.preprocessing import Normalizer\n",
    "from sklearn import preprocessing\n",
    "from sklearn.preprocessing import MinMaxScaler"
   ]
  },
  {
   "cell_type": "code",
   "execution_count": 120,
   "id": "d7253bb3",
   "metadata": {},
   "outputs": [],
   "source": [
    "\n",
    "#1. MinMaxScaler()\n",
    "#impoty the  MinMaxScaler function"
   ]
  },
  {
   "cell_type": "code",
   "execution_count": 121,
   "id": "c12082ea",
   "metadata": {},
   "outputs": [],
   "source": [
    "#X_std = (X - X.min(axis=0)) / (X.max(axis=0) - X.min(axis=0))\n",
    "#X_scaled = X_std * (max - min) + min\n",
    "\n",
    "colnames = ['fnlwgt','hours-per-week']"
   ]
  },
  {
   "cell_type": "code",
   "execution_count": 122,
   "id": "f0ffc206",
   "metadata": {},
   "outputs": [],
   "source": [
    "min_max = preprocessing.MinMaxScaler()\n",
    "census[colnames] = min_max.fit_transform(census[colnames])"
   ]
  },
  {
   "cell_type": "code",
   "execution_count": 123,
   "id": "a1b4e8a8",
   "metadata": {},
   "outputs": [],
   "source": [
    "#census.head()"
   ]
  },
  {
   "cell_type": "code",
   "execution_count": null,
   "id": "cc821698",
   "metadata": {},
   "outputs": [],
   "source": [
    "\n"
   ]
  },
  {
   "cell_type": "code",
   "execution_count": null,
   "id": "c4315923",
   "metadata": {},
   "outputs": [],
   "source": []
  },
  {
   "cell_type": "code",
   "execution_count": 124,
   "id": "d008ef00",
   "metadata": {},
   "outputs": [],
   "source": [
    "#2. Normalize using the z-score\n",
    "#import zscore model\n",
    "from scipy.stats import zscore"
   ]
  },
  {
   "cell_type": "code",
   "execution_count": 125,
   "id": "bd8a8c39",
   "metadata": {},
   "outputs": [],
   "source": [
    "#Select the columns you want to normalize\n",
    "cols=['fnlwgt','hours-per-week']"
   ]
  },
  {
   "cell_type": "code",
   "execution_count": 126,
   "id": "c41775f7",
   "metadata": {},
   "outputs": [],
   "source": [
    "census[colnames]=zscore(census[colnames])\n"
   ]
  },
  {
   "cell_type": "code",
   "execution_count": 127,
   "id": "c102419c",
   "metadata": {
    "scrolled": true
   },
   "outputs": [],
   "source": [
    "#census.head()"
   ]
  },
  {
   "cell_type": "code",
   "execution_count": 128,
   "id": "882abde2",
   "metadata": {},
   "outputs": [],
   "source": [
    "#3. Normalize using the standard scaler model\n",
    "#import the  StandardScaler \n",
    "\n",
    "from sklearn.preprocessing import StandardScaler"
   ]
  },
  {
   "cell_type": "code",
   "execution_count": 129,
   "id": "68c39932",
   "metadata": {},
   "outputs": [],
   "source": [
    "scaler = StandardScaler()"
   ]
  },
  {
   "cell_type": "code",
   "execution_count": 130,
   "id": "cdb8579b",
   "metadata": {},
   "outputs": [
    {
     "name": "stderr",
     "output_type": "stream",
     "text": [
      "C:\\Users\\Biruk\\AppData\\Local\\Programs\\Python\\Python312\\Lib\\site-packages\\sklearn\\utils\\extmath.py:1050: RuntimeWarning: invalid value encountered in divide\n",
      "  updated_mean = (last_sum + new_sum) / updated_sample_count\n",
      "C:\\Users\\Biruk\\AppData\\Local\\Programs\\Python\\Python312\\Lib\\site-packages\\sklearn\\utils\\extmath.py:1055: RuntimeWarning: invalid value encountered in divide\n",
      "  T = new_sum / new_sample_count\n",
      "C:\\Users\\Biruk\\AppData\\Local\\Programs\\Python\\Python312\\Lib\\site-packages\\sklearn\\utils\\extmath.py:1075: RuntimeWarning: invalid value encountered in divide\n",
      "  new_unnormalized_variance -= correction**2 / new_sample_count\n"
     ]
    }
   ],
   "source": [
    "# transform data\n",
    "census[colnames] = scaler.fit_transform(census[colnames])"
   ]
  },
  {
   "cell_type": "code",
   "execution_count": 147,
   "id": "68b06a33",
   "metadata": {},
   "outputs": [
    {
     "data": {
      "text/html": [
       "<div>\n",
       "<style scoped>\n",
       "    .dataframe tbody tr th:only-of-type {\n",
       "        vertical-align: middle;\n",
       "    }\n",
       "\n",
       "    .dataframe tbody tr th {\n",
       "        vertical-align: top;\n",
       "    }\n",
       "\n",
       "    .dataframe thead th {\n",
       "        text-align: right;\n",
       "    }\n",
       "</style>\n",
       "<table border=\"1\" class=\"dataframe\">\n",
       "  <thead>\n",
       "    <tr style=\"text-align: right;\">\n",
       "      <th></th>\n",
       "      <th>age</th>\n",
       "      <th>workclass</th>\n",
       "      <th>fnlwgt</th>\n",
       "      <th>education</th>\n",
       "      <th>educational-num</th>\n",
       "      <th>marital-status</th>\n",
       "      <th>occupation</th>\n",
       "      <th>relationship</th>\n",
       "      <th>race</th>\n",
       "      <th>gender</th>\n",
       "      <th>...</th>\n",
       "      <th>marital-status_Married-spouse-absent</th>\n",
       "      <th>marital-status_Never-married</th>\n",
       "      <th>marital-status_Separated</th>\n",
       "      <th>marital-status_Widowed</th>\n",
       "      <th>marital-status_nan</th>\n",
       "      <th>race_Amer-Indian-Eskimo</th>\n",
       "      <th>race_Asian-Pac-Islander</th>\n",
       "      <th>race_Black</th>\n",
       "      <th>race_Other</th>\n",
       "      <th>race_White</th>\n",
       "    </tr>\n",
       "  </thead>\n",
       "  <tbody>\n",
       "    <tr>\n",
       "      <th>0</th>\n",
       "      <td>25.0</td>\n",
       "      <td>Private</td>\n",
       "      <td>NaN</td>\n",
       "      <td>11th</td>\n",
       "      <td>7.0</td>\n",
       "      <td>Never-married</td>\n",
       "      <td>Machine-op-inspct</td>\n",
       "      <td>Own-child</td>\n",
       "      <td>Black</td>\n",
       "      <td>1</td>\n",
       "      <td>...</td>\n",
       "      <td>0.0</td>\n",
       "      <td>1.0</td>\n",
       "      <td>0.0</td>\n",
       "      <td>0.0</td>\n",
       "      <td>0.0</td>\n",
       "      <td>0.0</td>\n",
       "      <td>0.0</td>\n",
       "      <td>1.0</td>\n",
       "      <td>0.0</td>\n",
       "      <td>0.0</td>\n",
       "    </tr>\n",
       "    <tr>\n",
       "      <th>1</th>\n",
       "      <td>38.0</td>\n",
       "      <td>Private</td>\n",
       "      <td>NaN</td>\n",
       "      <td>HS-grad</td>\n",
       "      <td>9.0</td>\n",
       "      <td>Married-civ-spouse</td>\n",
       "      <td>Farming-fishing</td>\n",
       "      <td>Husband</td>\n",
       "      <td>White</td>\n",
       "      <td>1</td>\n",
       "      <td>...</td>\n",
       "      <td>0.0</td>\n",
       "      <td>0.0</td>\n",
       "      <td>0.0</td>\n",
       "      <td>0.0</td>\n",
       "      <td>0.0</td>\n",
       "      <td>0.0</td>\n",
       "      <td>0.0</td>\n",
       "      <td>0.0</td>\n",
       "      <td>0.0</td>\n",
       "      <td>1.0</td>\n",
       "    </tr>\n",
       "    <tr>\n",
       "      <th>2</th>\n",
       "      <td>28.0</td>\n",
       "      <td>Local-gov</td>\n",
       "      <td>NaN</td>\n",
       "      <td>Assoc-acdm</td>\n",
       "      <td>12.0</td>\n",
       "      <td>Married-civ-spouse</td>\n",
       "      <td>Protective-serv</td>\n",
       "      <td>Husband</td>\n",
       "      <td>White</td>\n",
       "      <td>1</td>\n",
       "      <td>...</td>\n",
       "      <td>0.0</td>\n",
       "      <td>0.0</td>\n",
       "      <td>0.0</td>\n",
       "      <td>0.0</td>\n",
       "      <td>0.0</td>\n",
       "      <td>0.0</td>\n",
       "      <td>0.0</td>\n",
       "      <td>0.0</td>\n",
       "      <td>0.0</td>\n",
       "      <td>1.0</td>\n",
       "    </tr>\n",
       "    <tr>\n",
       "      <th>3</th>\n",
       "      <td>44.0</td>\n",
       "      <td>Private</td>\n",
       "      <td>NaN</td>\n",
       "      <td>Some-college</td>\n",
       "      <td>10.0</td>\n",
       "      <td>Married-civ-spouse</td>\n",
       "      <td>Machine-op-inspct</td>\n",
       "      <td>Husband</td>\n",
       "      <td>Black</td>\n",
       "      <td>1</td>\n",
       "      <td>...</td>\n",
       "      <td>0.0</td>\n",
       "      <td>0.0</td>\n",
       "      <td>0.0</td>\n",
       "      <td>0.0</td>\n",
       "      <td>0.0</td>\n",
       "      <td>0.0</td>\n",
       "      <td>0.0</td>\n",
       "      <td>1.0</td>\n",
       "      <td>0.0</td>\n",
       "      <td>0.0</td>\n",
       "    </tr>\n",
       "    <tr>\n",
       "      <th>4</th>\n",
       "      <td>18.0</td>\n",
       "      <td>?</td>\n",
       "      <td>NaN</td>\n",
       "      <td>Some-college</td>\n",
       "      <td>10.0</td>\n",
       "      <td>Never-married</td>\n",
       "      <td>?</td>\n",
       "      <td>Own-child</td>\n",
       "      <td>White</td>\n",
       "      <td>0</td>\n",
       "      <td>...</td>\n",
       "      <td>0.0</td>\n",
       "      <td>1.0</td>\n",
       "      <td>0.0</td>\n",
       "      <td>0.0</td>\n",
       "      <td>0.0</td>\n",
       "      <td>0.0</td>\n",
       "      <td>0.0</td>\n",
       "      <td>0.0</td>\n",
       "      <td>0.0</td>\n",
       "      <td>1.0</td>\n",
       "    </tr>\n",
       "  </tbody>\n",
       "</table>\n",
       "<p>5 rows × 28 columns</p>\n",
       "</div>"
      ],
      "text/plain": [
       "    age  workclass  fnlwgt     education  educational-num      marital-status  \\\n",
       "0  25.0    Private     NaN          11th              7.0       Never-married   \n",
       "1  38.0    Private     NaN       HS-grad              9.0  Married-civ-spouse   \n",
       "2  28.0  Local-gov     NaN    Assoc-acdm             12.0  Married-civ-spouse   \n",
       "3  44.0    Private     NaN  Some-college             10.0  Married-civ-spouse   \n",
       "4  18.0          ?     NaN  Some-college             10.0       Never-married   \n",
       "\n",
       "          occupation relationship   race  gender  ...  \\\n",
       "0  Machine-op-inspct    Own-child  Black       1  ...   \n",
       "1    Farming-fishing      Husband  White       1  ...   \n",
       "2    Protective-serv      Husband  White       1  ...   \n",
       "3  Machine-op-inspct      Husband  Black       1  ...   \n",
       "4                  ?    Own-child  White       0  ...   \n",
       "\n",
       "   marital-status_Married-spouse-absent  marital-status_Never-married  \\\n",
       "0                                   0.0                           1.0   \n",
       "1                                   0.0                           0.0   \n",
       "2                                   0.0                           0.0   \n",
       "3                                   0.0                           0.0   \n",
       "4                                   0.0                           1.0   \n",
       "\n",
       "   marital-status_Separated marital-status_Widowed marital-status_nan  \\\n",
       "0                       0.0                    0.0                0.0   \n",
       "1                       0.0                    0.0                0.0   \n",
       "2                       0.0                    0.0                0.0   \n",
       "3                       0.0                    0.0                0.0   \n",
       "4                       0.0                    0.0                0.0   \n",
       "\n",
       "   race_Amer-Indian-Eskimo  race_Asian-Pac-Islander  race_Black  race_Other  \\\n",
       "0                      0.0                      0.0         1.0         0.0   \n",
       "1                      0.0                      0.0         0.0         0.0   \n",
       "2                      0.0                      0.0         0.0         0.0   \n",
       "3                      0.0                      0.0         1.0         0.0   \n",
       "4                      0.0                      0.0         0.0         0.0   \n",
       "\n",
       "   race_White  \n",
       "0         0.0  \n",
       "1         1.0  \n",
       "2         1.0  \n",
       "3         0.0  \n",
       "4         1.0  \n",
       "\n",
       "[5 rows x 28 columns]"
      ]
     },
     "execution_count": 147,
     "metadata": {},
     "output_type": "execute_result"
    }
   ],
   "source": [
    "census.head()"
   ]
  },
  {
   "cell_type": "code",
   "execution_count": 132,
   "id": "e2ae6e0a",
   "metadata": {},
   "outputs": [
    {
     "ename": "SyntaxError",
     "evalue": "invalid decimal literal (1168981115.py, line 3)",
     "output_type": "error",
     "traceback": [
      "\u001b[1;36m  Cell \u001b[1;32mIn[132], line 3\u001b[1;36m\u001b[0m\n\u001b[1;33m    1.how z-zcore()\u001b[0m\n\u001b[1;37m     ^\u001b[0m\n\u001b[1;31mSyntaxError\u001b[0m\u001b[1;31m:\u001b[0m invalid decimal literal\n"
     ]
    }
   ],
   "source": [
    "#exercise\n",
    "#Read how the following is calculated\n",
    "1.how z-zcore()\n",
    "2.MinMaxScaler()\n",
    "3.StandardScaler()\n",
    "4.Logscale()"
   ]
  },
  {
   "cell_type": "code",
   "execution_count": 148,
   "id": "6d5d6aab",
   "metadata": {},
   "outputs": [
    {
     "data": {
      "text/plain": [
       "Index(['age', 'workclass', 'fnlwgt', 'education', 'educational-num',\n",
       "       'marital-status', 'occupation', 'relationship', 'race', 'gender',\n",
       "       'capital-gain', 'capital-loss', 'hours-per-week', 'native-country',\n",
       "       'income', 'marital-status_Divorced', 'marital-status_Married-AF-spouse',\n",
       "       'marital-status_Married-civ-spouse',\n",
       "       'marital-status_Married-spouse-absent', 'marital-status_Never-married',\n",
       "       'marital-status_Separated', 'marital-status_Widowed',\n",
       "       'marital-status_nan', 'race_Amer-Indian-Eskimo',\n",
       "       'race_Asian-Pac-Islander', 'race_Black', 'race_Other', 'race_White'],\n",
       "      dtype='object')"
      ]
     },
     "execution_count": 148,
     "metadata": {},
     "output_type": "execute_result"
    }
   ],
   "source": [
    "census.columns"
   ]
  },
  {
   "cell_type": "code",
   "execution_count": null,
   "id": "31a563bb-b560-41cb-b135-70fd026d87f2",
   "metadata": {},
   "outputs": [],
   "source": []
  },
  {
   "cell_type": "code",
   "execution_count": null,
   "id": "b7067fec-b8d4-40bd-a7d9-5684fd113e4b",
   "metadata": {},
   "outputs": [],
   "source": []
  }
 ],
 "metadata": {
  "kernelspec": {
   "display_name": "Python 3 (ipykernel)",
   "language": "python",
   "name": "python3"
  },
  "language_info": {
   "codemirror_mode": {
    "name": "ipython",
    "version": 3
   },
   "file_extension": ".py",
   "mimetype": "text/x-python",
   "name": "python",
   "nbconvert_exporter": "python",
   "pygments_lexer": "ipython3",
   "version": "3.12.0"
  }
 },
 "nbformat": 4,
 "nbformat_minor": 5
}
